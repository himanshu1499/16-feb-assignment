{
 "cells": [
  {
   "cell_type": "markdown",
   "id": "a95e3f99-eb80-4ffa-8727-8de9cd022865",
   "metadata": {},
   "source": [
    "# what is a database ? differentiate between sql and nosql databases."
   ]
  },
  {
   "cell_type": "code",
   "execution_count": null,
   "id": "4e40c247-12c2-474d-9a5b-e34bb26cc83b",
   "metadata": {},
   "outputs": [],
   "source": [
    "A database is an organized collection of structured information, or data, typically stored electronically in a computer system"
   ]
  },
  {
   "cell_type": "code",
   "execution_count": null,
   "id": "1e8422ee-401e-4d41-adfe-4ba8e0c9a4aa",
   "metadata": {},
   "outputs": [],
   "source": [
    "sql\n",
    "1. relational datbase management system.\n",
    "2.vertically scalable.\n",
    "3.fixed or predefined schema.\n",
    "4.not suitable for hierarchical data storage.\n",
    "5.can be used for complex queries.\n"
   ]
  },
  {
   "cell_type": "code",
   "execution_count": null,
   "id": "e6b99d66-9d55-4f41-8f75-da3282e5821f",
   "metadata": {},
   "outputs": [],
   "source": [
    "nosql\n",
    "\n",
    "1.distributed database management system.\n",
    "2.horizontally scalable.\n",
    "3.dynamic schema.\n",
    "4.best suitable for hierarchical data storage.\n",
    "5.not good for complex queries."
   ]
  },
  {
   "cell_type": "markdown",
   "id": "f8ff3442-2f5d-4a63-a2b5-32f68f4beb3a",
   "metadata": {},
   "source": [
    "#what is ddl ? explain why create,drop,alter,and truncate are used with an example."
   ]
  },
  {
   "cell_type": "code",
   "execution_count": null,
   "id": "95d97989-554c-4eb5-b4b2-4e7fdfccf68d",
   "metadata": {},
   "outputs": [],
   "source": [
    "A data definition language (DDL) is a computer language used to create and modify the structure of database objects in a database.\n",
    "These database objects include views, schemas, tables, indexes, etc."
   ]
  },
  {
   "cell_type": "code",
   "execution_count": null,
   "id": "2efc0625-3f20-45d0-9242-f020a66ec7d6",
   "metadata": {},
   "outputs": [],
   "source": [
    "1.create - The CREATE TABLE command creates a new table in the database.\n",
    " ex- REATE TABLE Persons (\n",
    "    PersonID int,\n",
    "    LastName varchar(255),\n",
    "    FirstName varchar(255),\n",
    "    Address varchar(255),\n",
    "    City varchar(255)\n",
    ");\n",
    "2.drop - The DROP TABLE command deletes a table in the database.\n",
    "  ex - DROP TABLE Shipper;\n",
    "3.alter - The ALTER TABLE command adds, deletes, or modifies columns in a table.\n",
    "  ex - LTER TABLE Customers\n",
    "ADD Email varchar(255);\n",
    "\n",
    "4. truncate - The TRUNCATE TABLE command deletes the data inside a table, but not the table itself.\n",
    " ex - TRUNCATE TABLE Categories;"
   ]
  },
  {
   "cell_type": "code",
   "execution_count": null,
   "id": "4c1c4cfd-ab6c-47ab-8fd8-a6c8102e286f",
   "metadata": {},
   "outputs": [],
   "source": [
    "# what is dml? explain insert,update,and delete."
   ]
  },
  {
   "cell_type": "code",
   "execution_count": null,
   "id": "4eb97ba4-f32a-4c79-812e-e1700b699b5d",
   "metadata": {},
   "outputs": [],
   "source": [
    "A data manipulation language (DML) is a family of computer languages including commands permitting users to manipulate data in a database.\n",
    "This manipulation involves inserting data into database tables, retrieving existing data, deleting data from existing tables and modifying existing data. DML is mostly incorporated in SQL databases."
   ]
  },
  {
   "cell_type": "code",
   "execution_count": null,
   "id": "3abb355d-ef1a-477a-b8c9-c96195e97a3b",
   "metadata": {},
   "outputs": [],
   "source": [
    "The INSERT statement introduces new rows into an existing table.\n",
    "The DELETE statement removes a row or combination of rows from a table.\n",
    "The UPDATE statement enables users to update a row or group of rows in a table."
   ]
  },
  {
   "cell_type": "code",
   "execution_count": null,
   "id": "a9bf4076-0f0a-43cd-8402-a8f3831f4287",
   "metadata": {},
   "outputs": [],
   "source": [
    "# what is dql? explain select with an example."
   ]
  },
  {
   "cell_type": "code",
   "execution_count": null,
   "id": "11436f95-afcc-4d82-aa20-f9a8a70f34eb",
   "metadata": {},
   "outputs": [],
   "source": [
    "DQL commands are basically SELECT statements.\n",
    "SELECT statements let you query the database to find information in one or more tables, and return the query as a result set."
   ]
  },
  {
   "cell_type": "code",
   "execution_count": null,
   "id": "5ef1f80b-5af1-4bcd-b7c4-45a112d52912",
   "metadata": {},
   "outputs": [],
   "source": [
    "A SELECT statement retrieves zero or more rows from one or more database tables or database views.\n",
    " ex - SELECT *\n",
    "    FROM  Book\n",
    "    WHERE price > 100.00\n",
    "    ORDER BY title;"
   ]
  },
  {
   "cell_type": "code",
   "execution_count": null,
   "id": "b0ebce9f-1445-4b98-bc60-f0bd2dce861b",
   "metadata": {},
   "outputs": [],
   "source": [
    "# write a python code to connect mysql to python.explain the cursor() and execute()method."
   ]
  },
  {
   "cell_type": "code",
   "execution_count": null,
   "id": "837f0128-a635-441e-8e2d-a677eb9517e7",
   "metadata": {},
   "outputs": [],
   "source": [
    "import mysql.connector\n",
    "mydb = mysql.connector.connect(\n",
    "  host=\"localhost\",\n",
    "  user=\"abc\",\n",
    "  password=\"password\"\n",
    ")\n",
    "mycursor = mydb.cursor()\n",
    "#mycursor.execute(\"select * from test2.test_table\")\n",
    "mycursor.execute(\"select c1 , c5 from test2.test_table\")\n",
    "for i in mycursor.fetchall() :\n",
    " print(i)\n",
    " mydb.close()"
   ]
  },
  {
   "cell_type": "code",
   "execution_count": null,
   "id": "1d9e669e-4404-452b-8091-d956d9f6ae8a",
   "metadata": {},
   "outputs": [],
   "source": [
    "cursor() method \n",
    "Whenever DML statements are executed, a temporary work area is created in the system memory and it is called a cursor.\n",
    "A cursor can have more than one row, but processing wise only 1 row is taken into account.\n",
    "Cursors are very helpful in all kinds of databases like Oracle, SQL Server, MySQL, etc."
   ]
  },
  {
   "cell_type": "code",
   "execution_count": null,
   "id": "de550732-9a36-4079-bb60-f34966a9acba",
   "metadata": {},
   "outputs": [],
   "source": [
    "execute method\n",
    "This method executes the given database operation (query or command).\n",
    "The parameters found in the tuple or dictionary params are bound to the variables in the operation.\n",
    "Specify variables using %s or %( name )s parameter style ."
   ]
  },
  {
   "cell_type": "code",
   "execution_count": null,
   "id": "407f9dc5-ba94-46c2-bedb-4bc44bcb4d80",
   "metadata": {},
   "outputs": [],
   "source": [
    "#explain primary key and foreign key."
   ]
  },
  {
   "cell_type": "code",
   "execution_count": null,
   "id": "4675fb97-4284-4dce-8fc8-ebc4b15aa188",
   "metadata": {},
   "outputs": [],
   "source": [
    "A primary key is the column or columns that contain values that uniquely identify each row in a table.\n",
    "A database table must have a primary key for Optim to insert, update, restore, or delete data from a database table.\n",
    "Optim uses primary keys that are defined to the database"
   ]
  },
  {
   "cell_type": "code",
   "execution_count": null,
   "id": "8a99f285-de6c-415f-abab-ce5bd8a7345e",
   "metadata": {},
   "outputs": [],
   "source": [
    "foreign key\n",
    "A foreign key is a column or columns of data in one table that refers to the unique data values -- often the primary key data -- in another table.\n",
    "Foreign keys link together two or more tables in a relational database."
   ]
  },
  {
   "cell_type": "code",
   "execution_count": null,
   "id": "fa0c98d9-7901-4e96-9c23-092e0785694c",
   "metadata": {},
   "outputs": [],
   "source": [
    "# give the order of execution of sql clauses in an sql query."
   ]
  },
  {
   "cell_type": "code",
   "execution_count": null,
   "id": "3cf9951d-7903-4c9b-8edd-bf7e69cf9503",
   "metadata": {},
   "outputs": [],
   "source": [
    "FROM clause.\n",
    "ON clause.\n",
    "OUTER clause.\n",
    "WHERE clause.\n",
    "GROUP BY clause.\n",
    "HAVING clause.\n",
    "SELECT clause.\n",
    "DISTINCT clause."
   ]
  }
 ],
 "metadata": {
  "kernelspec": {
   "display_name": "Python 3 (ipykernel)",
   "language": "python",
   "name": "python3"
  },
  "language_info": {
   "codemirror_mode": {
    "name": "ipython",
    "version": 3
   },
   "file_extension": ".py",
   "mimetype": "text/x-python",
   "name": "python",
   "nbconvert_exporter": "python",
   "pygments_lexer": "ipython3",
   "version": "3.10.6"
  }
 },
 "nbformat": 4,
 "nbformat_minor": 5
}
